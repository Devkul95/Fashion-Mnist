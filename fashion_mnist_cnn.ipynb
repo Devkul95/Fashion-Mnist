{
  "nbformat": 4,
  "nbformat_minor": 0,
  "metadata": {
    "colab": {
      "name": "Copy of fashion_mnist_cnn.ipynb",
      "version": "0.3.2",
      "provenance": []
    },
    "kernelspec": {
      "name": "python3",
      "display_name": "Python 3"
    },
    "accelerator": "GPU"
  },
  "cells": [
    {
      "cell_type": "code",
      "metadata": {
        "id": "h1XLKKMPdZ6R",
        "colab_type": "code",
        "colab": {}
      },
      "source": [
        "import tensorflow\n",
        "from tensorflow import keras"
      ],
      "execution_count": 0,
      "outputs": []
    },
    {
      "cell_type": "code",
      "metadata": {
        "id": "rFetIAaNdkAB",
        "colab_type": "code",
        "outputId": "7c2105b7-88bb-4f65-d88e-6920210435f6",
        "colab": {
          "base_uri": "https://localhost:8080/",
          "height": 34
        }
      },
      "source": [
        "from keras.datasets import fashion_mnist"
      ],
      "execution_count": 0,
      "outputs": [
        {
          "output_type": "stream",
          "text": [
            "Using TensorFlow backend.\n"
          ],
          "name": "stderr"
        }
      ]
    },
    {
      "cell_type": "code",
      "metadata": {
        "id": "p1YuGh6jduUA",
        "colab_type": "code",
        "outputId": "8a592a31-173e-4cd2-cb9f-cb6aa37ef7b1",
        "colab": {
          "base_uri": "https://localhost:8080/",
          "height": 153
        }
      },
      "source": [
        "(x_train, y_train),(x_test, y_test) = fashion_mnist.load_data()"
      ],
      "execution_count": 0,
      "outputs": [
        {
          "output_type": "stream",
          "text": [
            "Downloading data from http://fashion-mnist.s3-website.eu-central-1.amazonaws.com/train-labels-idx1-ubyte.gz\n",
            "32768/29515 [=================================] - 0s 4us/step\n",
            "Downloading data from http://fashion-mnist.s3-website.eu-central-1.amazonaws.com/train-images-idx3-ubyte.gz\n",
            "26427392/26421880 [==============================] - 2s 0us/step\n",
            "Downloading data from http://fashion-mnist.s3-website.eu-central-1.amazonaws.com/t10k-labels-idx1-ubyte.gz\n",
            "8192/5148 [===============================================] - 0s 0us/step\n",
            "Downloading data from http://fashion-mnist.s3-website.eu-central-1.amazonaws.com/t10k-images-idx3-ubyte.gz\n",
            "4423680/4422102 [==============================] - 1s 0us/step\n"
          ],
          "name": "stdout"
        }
      ]
    },
    {
      "cell_type": "code",
      "metadata": {
        "id": "hntOHYW6dz2I",
        "colab_type": "code",
        "outputId": "50d5596e-6988-45fa-d85b-6ec5aaf2ecb4",
        "colab": {
          "base_uri": "https://localhost:8080/",
          "height": 34
        }
      },
      "source": [
        "x_train.shape"
      ],
      "execution_count": 0,
      "outputs": [
        {
          "output_type": "execute_result",
          "data": {
            "text/plain": [
              "(60000, 28, 28)"
            ]
          },
          "metadata": {
            "tags": []
          },
          "execution_count": 4
        }
      ]
    },
    {
      "cell_type": "code",
      "metadata": {
        "id": "Rb9Kdp69d6Dv",
        "colab_type": "code",
        "outputId": "528370f0-f6f0-4ed1-ac20-86046d8eb662",
        "colab": {
          "base_uri": "https://localhost:8080/",
          "height": 347
        }
      },
      "source": [
        "import matplotlib.pyplot as plt\n",
        "plt.imshow(x_train[0])\n",
        "plt.colorbar()\n",
        "plt.grid(False)\n",
        "plt.show()"
      ],
      "execution_count": 0,
      "outputs": [
        {
          "output_type": "display_data",
          "data": {
            "image/png": "[encoded data removed]",
            "text/plain": [
              "<Figure size 576x396 with 2 Axes>"
            ]
          },
          "metadata": {
            "tags": []
          }
        }
      ]
    },
    {
      "cell_type": "code",
      "metadata": {
        "id": "k8G3xx3Ed_5c",
        "colab_type": "code",
        "outputId": "3eaac9a5-9d3e-4e19-ae9b-953a487b11ff",
        "colab": {
          "base_uri": "https://localhost:8080/",
          "height": 34
        }
      },
      "source": [
        "y_train[0]"
      ],
      "execution_count": 0,
      "outputs": [
        {
          "output_type": "execute_result",
          "data": {
            "text/plain": [
              "9"
            ]
          },
          "metadata": {
            "tags": []
          },
          "execution_count": 6
        }
      ]
    },
    {
      "cell_type": "code",
      "metadata": {
        "id": "V6BrZD4ZeMBa",
        "colab_type": "code",
        "colab": {}
      },
      "source": [
        "class_names = ['T-shirt/top', 'Trouser', 'Pullover', 'Dress', 'Coat', \n",
        "               'Sandal', 'Shirt', 'Sneaker', 'Bag', 'Ankle boot']"
      ],
      "execution_count": 0,
      "outputs": []
    },
    {
      "cell_type": "code",
      "metadata": {
        "id": "0ZHOU2MHeajo",
        "colab_type": "code",
        "outputId": "e64289a5-8ffd-4a43-c982-a7c94c803c4b",
        "colab": {
          "base_uri": "https://localhost:8080/",
          "height": 34
        }
      },
      "source": [
        "class_names[y_train[0]]"
      ],
      "execution_count": 0,
      "outputs": [
        {
          "output_type": "execute_result",
          "data": {
            "text/plain": [
              "'Ankle boot'"
            ]
          },
          "metadata": {
            "tags": []
          },
          "execution_count": 8
        }
      ]
    },
    {
      "cell_type": "code",
      "metadata": {
        "id": "XcjlWfePe-ud",
        "colab_type": "code",
        "outputId": "b8cbe153-b913-4c2d-ba93-30ec110b5094",
        "colab": {
          "base_uri": "https://localhost:8080/",
          "height": 34
        }
      },
      "source": [
        "from keras.utils import to_categorical\n",
        "y_train = to_categorical(y_train)\n",
        "y_train[0]"
      ],
      "execution_count": 0,
      "outputs": [
        {
          "output_type": "execute_result",
          "data": {
            "text/plain": [
              "array([0., 0., 0., 0., 0., 0., 0., 0., 0., 1.], dtype=float32)"
            ]
          },
          "metadata": {
            "tags": []
          },
          "execution_count": 9
        }
      ]
    },
    {
      "cell_type": "code",
      "metadata": {
        "id": "jTl1xkoCfRqV",
        "colab_type": "code",
        "outputId": "15ca0faf-16f6-42ea-9129-ffcd2e9504f4",
        "colab": {
          "base_uri": "https://localhost:8080/",
          "height": 34
        }
      },
      "source": [
        "y_train.shape"
      ],
      "execution_count": 0,
      "outputs": [
        {
          "output_type": "execute_result",
          "data": {
            "text/plain": [
              "(60000, 10)"
            ]
          },
          "metadata": {
            "tags": []
          },
          "execution_count": 10
        }
      ]
    },
    {
      "cell_type": "code",
      "metadata": {
        "id": "-_oacom0f4WP",
        "colab_type": "code",
        "outputId": "a2f72b65-1da3-429b-f2c9-55f98c1d2546",
        "colab": {
          "base_uri": "https://localhost:8080/",
          "height": 364
        }
      },
      "source": [
        "x_train = x_train.astype('float32')/ 255\n",
        "plt.imshow(x_train[0])\n",
        "x_train=x_train.reshape(60000,28,28,1)\n",
        "x_train.shape"
      ],
      "execution_count": 0,
      "outputs": [
        {
          "output_type": "execute_result",
          "data": {
            "text/plain": [
              "(60000, 28, 28, 1)"
            ]
          },
          "metadata": {
            "tags": []
          },
          "execution_count": 11
        },
        {
          "output_type": "display_data",
          "data": {
            "image/png": "[encoded data removed]",
            "text/plain": [
              "<Figure size 576x396 with 1 Axes>"
            ]
          },
          "metadata": {
            "tags": []
          }
        }
      ]
    },
    {
      "cell_type": "code",
      "metadata": {
        "id": "haZMFYV9fV-C",
        "colab_type": "code",
        "outputId": "a74850eb-dafa-462e-e152-37e9a521d32d",
        "colab": {
          "base_uri": "https://localhost:8080/",
          "height": 272
        }
      },
      "source": [
        "# Designing a Neural Network and give a name to the model\n",
        "\n",
        "from keras.models import Sequential\n",
        "fashion_model = Sequential()\n",
        "from keras.layers import Dense, Conv2D, Flatten  #for cnn network we add Conv2D\n",
        "fashion_model.add(Conv2D(200, kernel_size=(3,3), activation='relu', input_shape=(28,28,1)))  #kernel_size is same as filter_size, input_shape=1 because out of 600000 it goes 1 by 1\n",
        "fashion_model.add(Conv2D(60, kernel_size=(5,5), activation= 'relu'))\n",
        "fashion_model.add(Flatten())\n",
        "fashion_model.add(Dense(10, activation='softmax'))\n",
        "\n",
        "fashion_model.compile(optimizer='adam', loss='categorical_crossentropy', metrics=['accuracy'])\n",
        "# fashion_model.compile(optimizer='adam', loss=keras.losses.categorical_crossentropy, metrics=['accuracy'])\n",
        "fashion_model.summary()"
      ],
      "execution_count": 0,
      "outputs": [
        {
          "output_type": "stream",
          "text": [
            "_________________________________________________________________\n",
            "Layer (type)                 Output Shape              Param #   \n",
            "=================================================================\n",
            "conv2d_21 (Conv2D)           (None, 26, 26, 200)       2000      \n",
            "_________________________________________________________________\n",
            "conv2d_22 (Conv2D)           (None, 22, 22, 60)        300060    \n",
            "_________________________________________________________________\n",
            "flatten_11 (Flatten)         (None, 29040)             0         \n",
            "_________________________________________________________________\n",
            "dense_11 (Dense)             (None, 10)                290410    \n",
            "=================================================================\n",
            "Total params: 592,470\n",
            "Trainable params: 592,470\n",
            "Non-trainable params: 0\n",
            "_________________________________________________________________\n"
          ],
          "name": "stdout"
        }
      ]
    },
    {
      "cell_type": "code",
      "metadata": {
        "id": "9MZ_EvNJh5Xv",
        "colab_type": "code",
        "outputId": "a2afdbe6-dfe0-4d3e-f807-8953e7b0e444",
        "colab": {
          "base_uri": "https://localhost:8080/",
          "height": 510
        }
      },
      "source": [
        "fashion_model.fit(x_train,y_train,epochs=14, batch_size = 256)"
      ],
      "execution_count": 0,
      "outputs": [
        {
          "output_type": "stream",
          "text": [
            "Epoch 1/14\n",
            "60000/60000 [==============================] - 16s 259us/step - loss: 0.4693 - acc: 0.8312\n",
            "Epoch 2/14\n",
            "60000/60000 [==============================] - 15s 250us/step - loss: 0.2889 - acc: 0.8952\n",
            "Epoch 3/14\n",
            "60000/60000 [==============================] - 15s 249us/step - loss: 0.2450 - acc: 0.9119\n",
            "Epoch 4/14\n",
            "60000/60000 [==============================] - 15s 248us/step - loss: 0.2130 - acc: 0.9223\n",
            "Epoch 5/14\n",
            "60000/60000 [==============================] - 15s 248us/step - loss: 0.1861 - acc: 0.9322\n",
            "Epoch 6/14\n",
            "60000/60000 [==============================] - 15s 248us/step - loss: 0.1597 - acc: 0.9417\n",
            "Epoch 7/14\n",
            "60000/60000 [==============================] - 15s 247us/step - loss: 0.1385 - acc: 0.9487\n",
            "Epoch 8/14\n",
            "60000/60000 [==============================] - 15s 247us/step - loss: 0.1185 - acc: 0.9572\n",
            "Epoch 9/14\n",
            "60000/60000 [==============================] - 15s 247us/step - loss: 0.1006 - acc: 0.9639\n",
            "Epoch 10/14\n",
            "60000/60000 [==============================] - 15s 246us/step - loss: 0.0845 - acc: 0.9699\n",
            "Epoch 11/14\n",
            "60000/60000 [==============================] - 15s 246us/step - loss: 0.0707 - acc: 0.9756\n",
            "Epoch 12/14\n",
            "60000/60000 [==============================] - 15s 245us/step - loss: 0.0605 - acc: 0.9787\n",
            "Epoch 13/14\n",
            "60000/60000 [==============================] - 15s 245us/step - loss: 0.0516 - acc: 0.9819\n",
            "Epoch 14/14\n",
            "60000/60000 [==============================] - 15s 245us/step - loss: 0.0438 - acc: 0.9849\n"
          ],
          "name": "stdout"
        },
        {
          "output_type": "execute_result",
          "data": {
            "text/plain": [
              "<keras.callbacks.History at 0x7f875d355ef0>"
            ]
          },
          "metadata": {
            "tags": []
          },
          "execution_count": 32
        }
      ]
    },
    {
      "cell_type": "code",
      "metadata": {
        "id": "4vNh7ZvqizF1",
        "colab_type": "code",
        "colab": {}
      },
      "source": [
        "x_test_o = x_test\n",
        "x_test = x_test.reshape((10000,28,28,1))\n",
        "x_test = x_test.astype('float32')/255"
      ],
      "execution_count": 0,
      "outputs": []
    },
    {
      "cell_type": "code",
      "metadata": {
        "id": "8ukCoGOdqI7G",
        "colab_type": "code",
        "colab": {}
      },
      "source": [
        "pred = fashion_model.predict(x_test)"
      ],
      "execution_count": 0,
      "outputs": []
    },
    {
      "cell_type": "code",
      "metadata": {
        "id": "8DyKz3J8qXYz",
        "colab_type": "code",
        "outputId": "a78e7eb5-6b34-4e85-fb66-5e9ed100d3a7",
        "colab": {
          "base_uri": "https://localhost:8080/",
          "height": 364
        }
      },
      "source": [
        "plt.imshow(x_test_o[2].reshape((28,28)))"
      ],
      "execution_count": 0,
      "outputs": [
        {
          "output_type": "execute_result",
          "data": {
            "text/plain": [
              "<matplotlib.image.AxesImage at 0x7f875d1bdc88>"
            ]
          },
          "metadata": {
            "tags": []
          },
          "execution_count": 36
        },
        {
          "output_type": "display_data",
          "data": {
            "image/png": "[encoded data removed]",
            "text/plain": [
              "<Figure size 576x396 with 1 Axes>"
            ]
          },
          "metadata": {
            "tags": []
          }
        }
      ]
    },
    {
      "cell_type": "code",
      "metadata": {
        "id": "H__UOWbrs6jW",
        "colab_type": "code",
        "outputId": "e4e14b33-aeb0-48cd-e2d1-0a075482b781",
        "colab": {
          "base_uri": "https://localhost:8080/",
          "height": 68
        }
      },
      "source": [
        "pred[1]"
      ],
      "execution_count": 0,
      "outputs": [
        {
          "output_type": "execute_result",
          "data": {
            "text/plain": [
              "array([6.0140951e-07, 4.2768210e-15, 9.9999726e-01, 1.4653443e-12,\n",
              "       3.6472844e-07, 1.5644248e-23, 1.7267494e-06, 3.1363977e-23,\n",
              "       2.1198802e-14, 1.1301284e-14], dtype=float32)"
            ]
          },
          "metadata": {
            "tags": []
          },
          "execution_count": 37
        }
      ]
    },
    {
      "cell_type": "code",
      "metadata": {
        "id": "go-WgTBMqq9z",
        "colab_type": "code",
        "outputId": "5a9bec39-a586-48d6-fc40-6d5603dfce6d",
        "colab": {
          "base_uri": "https://localhost:8080/",
          "height": 51
        }
      },
      "source": [
        "import numpy as np\n",
        "print(class_names[np.argmax(pred[1])])\n",
        "class_names[np.argmax(pred[1])]"
      ],
      "execution_count": 0,
      "outputs": [
        {
          "output_type": "stream",
          "text": [
            "Pullover\n"
          ],
          "name": "stdout"
        },
        {
          "output_type": "execute_result",
          "data": {
            "text/plain": [
              "'Pullover'"
            ]
          },
          "metadata": {
            "tags": []
          },
          "execution_count": 38
        }
      ]
    },
    {
      "cell_type": "code",
      "metadata": {
        "id": "PDHPwMrTqz6y",
        "colab_type": "code",
        "colab": {}
      },
      "source": [
        ""
      ],
      "execution_count": 0,
      "outputs": []
    }
  ]
}